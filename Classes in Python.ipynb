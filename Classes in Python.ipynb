{
 "cells": [
  {
   "cell_type": "markdown",
   "metadata": {},
   "source": [
    "## Classes in Python"
   ]
  },
  {
   "cell_type": "markdown",
   "metadata": {},
   "source": [
    "Method: A function that is associated with a class\n",
    "\n",
    "Attributes: A variable that is associated with a class"
   ]
  },
  {
   "cell_type": "code",
   "execution_count": 3,
   "metadata": {},
   "outputs": [
    {
     "name": "stdout",
     "output_type": "stream",
     "text": [
      "<__main__.Employee object at 0x000001C7CC004550>\n",
      "<__main__.Employee object at 0x000001C7CC004358>\n"
     ]
    }
   ],
   "source": [
    "## Let's create a class Employee with some associated attributes and Methods\n",
    "\n",
    "## We have created a class named employee and right now we are not defining any attributes or methods of a class \n",
    "## therefore, we can use the command 'pass' to let the python compiler know that we are intentionally keeping it \n",
    "## blank\n",
    "\n",
    "class Employee:\n",
    "    pass\n",
    "\n",
    "## Employee is a class\n",
    "\n",
    "emp_1 = Employee()\n",
    "emp_2 = Employee()\n",
    "\n",
    "## emp_1 and emp_2 are instances of the class\n",
    "\n",
    "## Printing the objects\n",
    "print(emp_1)\n",
    "print(emp_2)\n",
    "\n",
    "## Both are unique objects of class Employee "
   ]
  },
  {
   "cell_type": "code",
   "execution_count": 12,
   "metadata": {},
   "outputs": [
    {
     "name": "stdout",
     "output_type": "stream",
     "text": [
      "Sahil.Arora@company.com\n",
      "Ria.Arora@company.com\n"
     ]
    }
   ],
   "source": [
    "#Instance variables: One way to define the attributes of the class instance is to defint them separately for each\n",
    "# object\n",
    "\n",
    "emp_1.first = \"Sahil\"\n",
    "emp_1.last  = \"Arora\"\n",
    "emp_1.email = \"Sahil.Arora@company.com\"\n",
    "emp_1.salary  = 50000\n",
    "\n",
    "emp_2.first = \"Ria\"\n",
    "emp_2.last  = \"Arora\"\n",
    "emp_2.email = \"Ria.Arora@company.com\"\n",
    "emp_2.salary  = 70000\n",
    "\n",
    "print(emp_1.email)\n",
    "print(emp_2.email)"
   ]
  },
  {
   "cell_type": "code",
   "execution_count": 15,
   "metadata": {},
   "outputs": [],
   "source": [
    "## It doesn't make sense to define these variables everytime we want to create a new class instance. Therefore, we \n",
    "## use a special 'init' method which initialize the object with the values \n",
    "## It's similar to a constructor in C++\n",
    "\n",
    "\n",
    "## The first argument to the __init__ () function is the object itself , which is refered as self.\n",
    "\n",
    "class Employee:\n",
    "    \n",
    "    def __init__(self , first , last, salary):\n",
    "        self.first = first\n",
    "        self.last  = last\n",
    "        self.email = first+ '.' + last + '@company.com'\n",
    "        self.salary= salary\n",
    "        \n",
    "## Now, lets create a class instance or object\n",
    "\n",
    "emp_1 = Employee(\"Sahil\" , \"Arora\" , 50000) # Even though the self is the first argument to the __inti__(), the object is passed by default \n",
    "                   # and hence there is no need to pass it explicitly to the class  \n",
    "    \n",
    "emp_2 = Employee(\"Ria\" , \"Arora\" , 60000) # Even though the self is the first argument to the __inti__(), the object is passed by default \n",
    "                   # and hence there is no need to pass it explicitly to the class  "
   ]
  },
  {
   "cell_type": "code",
   "execution_count": 19,
   "metadata": {},
   "outputs": [
    {
     "name": "stdout",
     "output_type": "stream",
     "text": [
      "Sahil Arora\n"
     ]
    }
   ],
   "source": [
    "## Along with the __init__ () method, we can create other methods too\n",
    "\n",
    "## Let's create a method full name to provide the full name of an object\n",
    "class Employee:\n",
    "    \n",
    "    def __init__(self , first , last, salary):\n",
    "        self.first = first\n",
    "        self.last  = last\n",
    "        self.email = first+ '.' + last + '@company.com'\n",
    "        self.salary= salary\n",
    "        \n",
    "    def fullname(self):\n",
    "        return(self.first + \" \" + self.last)\n",
    "\n",
    "emp_1 = Employee(\"Sahil\" , \"Arora\" , 50000)\n",
    "\n",
    "print(emp_1.fullname())"
   ]
  },
  {
   "cell_type": "markdown",
   "metadata": {},
   "source": [
    "## Defining class variables"
   ]
  },
  {
   "cell_type": "code",
   "execution_count": 26,
   "metadata": {},
   "outputs": [
    {
     "name": "stdout",
     "output_type": "stream",
     "text": [
      "52000.0\n",
      "1.04\n",
      "1.04\n",
      "1.04\n"
     ]
    }
   ],
   "source": [
    "## Class variables are variables which are assigned to any object which is created as a part of the class \n",
    "## Let's say that I want to provide a raise to the employees.\n",
    "\n",
    "\n",
    "\n",
    "class Employee:\n",
    "    \n",
    "    raise_amount = 1.04\n",
    "    \n",
    "    def __init__(self , first , last, salary):\n",
    "        self.first = first\n",
    "        self.last  = last\n",
    "        self.email = first+ '.' + last + '@company.com'\n",
    "        self.salary= salary\n",
    "        \n",
    "    def fullname(self):\n",
    "        return(self.first + \" \" + self.last)\n",
    "    \n",
    "    def raised_salary(self):\n",
    "        return (self.salary * Employee.raise_amount) # Using just the variables would not have worked here. However\n",
    "                                                     # using the Class name to call it makes it easy to use\n",
    "emp_1 = Employee(\"Sahil\" , \"Arora\" , 50000)\n",
    "emp_2 = Employee(\"Ria\" , \"Arora\" , 60000)\n",
    "\n",
    "print(emp_1.raised_salary())\n",
    "\n",
    "### Let's try to access the raise amount\n",
    "print(Employee.raise_amount)\n",
    "print(emp_1.raise_amount)\n",
    "print(emp_2.raise_amount)\n",
    "\n",
    "### See, the class variable can be accessed using the class as well as the object name"
   ]
  },
  {
   "cell_type": "markdown",
   "metadata": {},
   "source": [
    "## Let's see the dictionary of the class and object/instances  that we have created for that particular class  "
   ]
  },
  {
   "cell_type": "code",
   "execution_count": 31,
   "metadata": {},
   "outputs": [
    {
     "name": "stdout",
     "output_type": "stream",
     "text": [
      "{'first': 'Sahil', 'last': 'Arora', 'email': 'Sahil.Arora@company.com', 'salary': 50000}\n",
      "\n",
      "\n",
      "\n",
      "{'__module__': '__main__', 'raise_amount': 1.04, '__init__': <function Employee.__init__ at 0x000001C7CBDF8840>, 'fullname': <function Employee.fullname at 0x000001C7CBDF8048>, 'raised_salary': <function Employee.raised_salary at 0x000001C7CBDF81E0>, '__dict__': <attribute '__dict__' of 'Employee' objects>, '__weakref__': <attribute '__weakref__' of 'Employee' objects>, '__doc__': None}\n",
      "\n",
      "\n",
      "\n",
      "{'first': 'Ria', 'last': 'Arora', 'email': 'Ria.Arora@company.com', 'salary': 60000}\n"
     ]
    }
   ],
   "source": [
    "print(emp_1.__dict__)\n",
    "print('\\n\\n')\n",
    "print(Employee.__dict__)\n",
    "print('\\n\\n')\n",
    "print(emp_2.__dict__)\n",
    "\n",
    "## See that the class variable 'raise_amount' is available in the class description only and not in the individual instance"
   ]
  },
  {
   "cell_type": "code",
   "execution_count": 34,
   "metadata": {},
   "outputs": [
    {
     "name": "stdout",
     "output_type": "stream",
     "text": [
      "52000.0\n",
      "1.04\n",
      "1.04\n",
      "1.04\n",
      "{'first': 'Sahil', 'last': 'Arora', 'email': 'Sahil.Arora@company.com', 'salary': 50000, 'raise_amount': 1.05}\n",
      "1.04\n",
      "1.05\n",
      "1.04\n"
     ]
    },
    {
     "data": {
      "text/plain": [
       "'See that the raise amount is not reflected in the instance disctionary'"
      ]
     },
     "execution_count": 34,
     "metadata": {},
     "output_type": "execute_result"
    }
   ],
   "source": [
    "## Whenever we want to access the raise_amount for the instance, the raise_amount of the class is given \n",
    "\n",
    "class Employee:\n",
    "    \n",
    "    raise_amount = 1.04\n",
    "    \n",
    "    def __init__(self , first , last, salary):\n",
    "        self.first = first\n",
    "        self.last  = last\n",
    "        self.email = first+ '.' + last + '@company.com'\n",
    "        self.salary= salary\n",
    "        \n",
    "    def fullname(self):\n",
    "        return(self.first + \" \" + self.last)\n",
    "    \n",
    "    def raised_salary(self):\n",
    "        return (self.salary * self.raise_amount) # Using just the variables would not have worked here. However\n",
    "                                                     # using the instance name to call it makes it easy to use and\n",
    "                                                # customize for different objects\n",
    "emp_1 = Employee(\"Sahil\" , \"Arora\" , 50000)\n",
    "emp_2 = Employee(\"Ria\" , \"Arora\" , 60000)\n",
    "\n",
    "print(emp_1.raised_salary())\n",
    "\n",
    "### Let's try to access the raise amount\n",
    "print(Employee.raise_amount)\n",
    "print(emp_1.raise_amount)\n",
    "print(emp_2.raise_amount)\n",
    "\n",
    "''' See that the same value is given for the variable'raise_amount' even though its not a part of emp_1 and emp_2 \n",
    "instance. \n",
    "\n",
    "However, when we change the raise_amount for an instance'''\n",
    "\n",
    "emp_1.raise_amount = 1.05\n",
    "print(emp_1.__dict__)\n",
    "print(Employee.raise_amount)\n",
    "print(emp_1.raise_amount)\n",
    "print(emp_2.raise_amount)\n",
    "\n",
    "'''See that the raise amount is now reflected in the instance disctionary'''"
   ]
  },
  {
   "cell_type": "code",
   "execution_count": 39,
   "metadata": {},
   "outputs": [
    {
     "name": "stdout",
     "output_type": "stream",
     "text": [
      "0\n",
      "2\n",
      "\n",
      "\n",
      "2\n",
      "2\n"
     ]
    }
   ],
   "source": [
    "# Sometimes instead of using the instance/object variable, its important to use a class variable\n",
    "# for example: Let's say that I want to create a variable that has the # employees and increments everytime a\n",
    "# new class object is created.\n",
    "\n",
    "class Employee:\n",
    "    \n",
    "    num_of_emps  = 0\n",
    "    raise_amount = 1.04\n",
    "    \n",
    "    \n",
    "    def __init__(self , first , last, salary):\n",
    "        self.first = first\n",
    "        self.last  = last\n",
    "        self.email = first+ '.' + last + '@company.com'\n",
    "        self.salary= salary\n",
    "        \n",
    "        Employee.num_of_emps += 1   ## Defining it in the __init__() coz its run once every time the object is defined\n",
    "        \n",
    "        \n",
    "    def fullname(self):\n",
    "        return(self.first + \" \" + self.last)\n",
    "    \n",
    "    def raised_salary(self):\n",
    "        return (self.salary * self.raise_amount) # Using just the variables would not have worked here. However\n",
    "                                                     # using the instance name to call it makes it easy to use and\n",
    "                                                # customize for different objects\n",
    "\n",
    "## Printing the number of employees before I create the instances            \n",
    "\n",
    "print(Employee.num_of_emps)\n",
    "    \n",
    "emp_1 = Employee(\"Sahil\" , \"Arora\" , 50000)\n",
    "emp_2 = Employee(\"Ria\" , \"Arora\" , 60000)\n",
    "\n",
    "print(Employee.num_of_emps)\n",
    "\n",
    "## If i check the value of the variables based on the instance \n",
    "print(\"\\n\")\n",
    "print(emp_1.num_of_emps)\n",
    "print(emp_2.num_of_emps)\n"
   ]
  },
  {
   "cell_type": "markdown",
   "metadata": {},
   "source": [
    "# Regular Methods, Class Methods and Static Methods"
   ]
  },
  {
   "cell_type": "code",
   "execution_count": 44,
   "metadata": {},
   "outputs": [
    {
     "name": "stdout",
     "output_type": "stream",
     "text": [
      "1.04\n",
      "1.04\n",
      "1.04\n",
      "\n",
      "\n",
      "1.05\n",
      "1.05\n",
      "1.05\n"
     ]
    }
   ],
   "source": [
    "## The functions we have created within the class are called the regular methods. \n",
    "## The regular methods in  a class take 'instance' as the first argument.\n",
    "\n",
    "## Defining a class method inside a class\n",
    "\n",
    "class Employee:\n",
    "    \n",
    "    num_of_emps  = 0\n",
    "    raise_amount = 1.04\n",
    "    \n",
    "    \n",
    "    def __init__(self , first , last, salary):\n",
    "        self.first = first\n",
    "        self.last  = last\n",
    "        self.email = first+ '.' + last + '@company.com'\n",
    "        self.salary= salary\n",
    "        \n",
    "        Employee.num_of_emps += 1   ## Defining it in the __init__() coz its run once every time the object is defined\n",
    "        \n",
    "        \n",
    "    def fullname(self):\n",
    "        return(self.first + \" \" + self.last)\n",
    "    \n",
    "    def raised_salary(self):\n",
    "        return (self.salary * self.raise_amount) # Using just the variables would not have worked here. However\n",
    "                                                     # using the instance name to call it makes it easy to use and\n",
    "                                                # customize for different objects\n",
    "            \n",
    "            \n",
    "            \n",
    "    @classmethod ## This is called a decorator.\n",
    "    def set_raise_amount(cls,amount): # By convention with the regular method, we used first argument as self but here\n",
    "                                      # we use first argument as the cls which refers to the class itself\n",
    "        cls.raise_amount = amount\n",
    "    \n",
    "            \n",
    "\n",
    "## Let's create the objects/instances again\n",
    "\n",
    "emp_1 = Employee(\"Sahil\" , \"Arora\" , 50000)\n",
    "emp_2 = Employee(\"Ria\" , \"Arora\" , 60000)\n",
    "\n",
    "print(Employee.raise_amount)\n",
    "print(emp_1.raise_amount)\n",
    "print(emp_2.raise_amount)\n",
    "\n",
    "\n",
    "############## Now Let's try and change the raise_amount ###################\n",
    "\n",
    "print('\\n')\n",
    "\n",
    "Employee.set_raise_amount(1.05)\n",
    "\n",
    "print(Employee.raise_amount)\n",
    "print(emp_1.raise_amount)\n",
    "print(emp_2.raise_amount)\n",
    "\n",
    "########### It can be seen that the raise amount which is a class attibute, can be changed by just using a class method"
   ]
  }
 ],
 "metadata": {
  "kernelspec": {
   "display_name": "Python 3",
   "language": "python",
   "name": "python3"
  },
  "language_info": {
   "codemirror_mode": {
    "name": "ipython",
    "version": 3
   },
   "file_extension": ".py",
   "mimetype": "text/x-python",
   "name": "python",
   "nbconvert_exporter": "python",
   "pygments_lexer": "ipython3",
   "version": "3.7.3"
  }
 },
 "nbformat": 4,
 "nbformat_minor": 4
}
